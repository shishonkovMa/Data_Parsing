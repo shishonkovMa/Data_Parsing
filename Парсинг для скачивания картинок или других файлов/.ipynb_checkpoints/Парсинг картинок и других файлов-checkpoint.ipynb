{
 "cells": [
  {
   "cell_type": "markdown",
   "id": "18183ce2",
   "metadata": {},
   "source": [
    "Самый простой вариант скачивания картинки с сайта при помощи Python.<br>\n",
    "Результат: картинка '1.jpg'"
   ]
  },
  {
   "cell_type": "code",
   "execution_count": 1,
   "id": "83602f78",
   "metadata": {},
   "outputs": [
    {
     "name": "stderr",
     "output_type": "stream",
     "text": [
      "C:\\Users\\bosss\\anaconda3\\envs\\praktikum\\lib\\site-packages\\requests\\__init__.py:91: RequestsDependencyWarning: urllib3 (1.26.9) or chardet (3.0.4) doesn't match a supported version!\n",
      "  RequestsDependencyWarning)\n"
     ]
    }
   ],
   "source": [
    "import requests\n",
    "\n",
    "url = 'https://www.hdwallpapers.in/thumbs/2022/french_bulldog_with_sad_face_is_looking_up_in_silhouette_background_hd_dog-t2.jpg'\n",
    "\n",
    "r = requests.get(url, stream=True)  # stream позволяет \"закачивать\" файлы по кускам\n",
    "\n",
    "with open('1.jpg', 'bw') as f:          # 'w' - используется для записи текстовых данных, в нашем случае 'bw' - бинарные данные\n",
    "    for chunk in r.iter_content(8192):  # при каждом вызове данного генератора, он возвращает кусок файла (по дефолту - 1 байт)\n",
    "        f.write(chunk)                  # в скобках указываем размер файла. В нашем случае 8192 - 8 килобайт\n",
    "        "
   ]
  },
  {
   "cell_type": "markdown",
   "id": "1f0dba75",
   "metadata": {},
   "source": [
    "Скачивание картинок с сайта в текущую директорию с помещением каждой картинки в отдельную папку с названием этой же картинки."
   ]
  },
  {
   "cell_type": "code",
   "execution_count": 2,
   "id": "aa119ac9",
   "metadata": {},
   "outputs": [],
   "source": [
    "import os\n",
    "\n",
    "urls = [\n",
    "    'https://www.hdwallpapers.in/thumbs/2022/aqua_ink_liquid_abstraction_4k_hd_abstract-t2.jpg',\n",
    "    'https://www.hdwallpapers.in/thumbs/2022/red_rays_star_spiral_infinity_abstraction_4k_hd_abstract-t2.jpg',\n",
    "    'https://www.hdwallpapers.in/thumbs/2022/mixed_colors_brush_strokes_abstraction_hd_abstract-t2.jpg',\n",
    "    'https://www.hdwallpapers.in/thumbs/2022/cat_with_stare_look_is_walking_on_snow_in_snowfall_background_hd_cat-t2.jpg'\n",
    "]\n",
    "\n",
    "\n",
    "def get_file(url):\n",
    "    r = requests.get(url, stream=True)\n",
    "    return r\n",
    "\n",
    "\n",
    "def get_name(url):\n",
    "    name = url.split('/')[-1]\n",
    "    folder = name.split('.')[0]\n",
    "    \n",
    "    if not os.path.exists(folder):\n",
    "        os.makedirs(folder)\n",
    "        \n",
    "    path = os.path.abspath(folder)\n",
    "    \n",
    "    return path + '\\\\' + name\n",
    "\n",
    "\n",
    "def save_image(name, file_object):\n",
    "    with open(name, 'bw') as f:\n",
    "        for chunk in file_object.iter_content(8192):\n",
    "            f.write(chunk)\n",
    "\n",
    "\n",
    "def main():\n",
    "    for url in urls:\n",
    "        save_image(get_name(url), get_file(url))\n",
    "\n",
    "\n",
    "if __name__ == '__main__':\n",
    "    main()"
   ]
  }
 ],
 "metadata": {
  "kernelspec": {
   "display_name": "Python 3",
   "language": "python",
   "name": "python3"
  },
  "language_info": {
   "codemirror_mode": {
    "name": "ipython",
    "version": 3
   },
   "file_extension": ".py",
   "mimetype": "text/x-python",
   "name": "python",
   "nbconvert_exporter": "python",
   "pygments_lexer": "ipython3",
   "version": "3.7.10"
  }
 },
 "nbformat": 4,
 "nbformat_minor": 5
}
