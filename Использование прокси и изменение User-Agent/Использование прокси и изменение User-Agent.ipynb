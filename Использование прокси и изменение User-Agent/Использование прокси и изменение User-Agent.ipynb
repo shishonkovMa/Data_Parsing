{
 "cells": [
  {
   "cell_type": "markdown",
   "id": "379e5401",
   "metadata": {},
   "source": [
    "Прием, помогающий избежать при парсинге бана или появления капчи посредством использования прокси-сервера с меняющимся адресом и изменения параметра User-Agent.\n",
    "\n",
    "(Для того чтобы узнать IP - вбиваем команду \"ipconfig\" в командной строке)"
   ]
  },
  {
   "cell_type": "code",
   "execution_count": 9,
   "id": "68aec21f",
   "metadata": {},
   "outputs": [
    {
     "name": "stdout",
     "output_type": "stream",
     "text": [
      "New Proxy & User-Agent:\n",
      "46.242.12.211\n",
      "User-Agent: Mozilla/5.0 (Windows NT 10.0; WOW64) AppleWebKit/537.36 (KHTML, like Gecko) Chrome/100.0.4896.60 Safari/537.36\n",
      "...............................\n",
      "New Proxy & User-Agent:\n",
      "46.242.12.211\n",
      "User-Agent: Mozilla/5.0 (X11; Linux x86_64) AppleWebKit/537.36 (KHTML, like Gecko) Chrome/100.0.4896.60 Safari/537.36 OPR/85.0.4341.18\n",
      "...............................\n",
      "New Proxy & User-Agent:\n",
      "46.242.12.211\n",
      "User-Agent: Mozilla/5.0 (Windows NT 10.0; WOW64) AppleWebKit/537.36 (KHTML, like Gecko) Chrome/100.0.4896.60 YaBrowser/22.3.0 Yowser/2.5 Safari/537.36\n",
      "...............................\n",
      "New Proxy & User-Agent:\n",
      "46.242.12.211\n",
      "User-Agent: Mozilla/5.0 (X11; Linux i686) AppleWebKit/537.36 (KHTML, like Gecko) Chrome/100.0.4896.60 Safari/537.36 Vivaldi/4.3\n",
      "...............................\n",
      "New Proxy & User-Agent:\n",
      "46.242.12.211\n",
      "User-Agent: Mozilla/5.0 (Macintosh; Intel Mac OS X 12_3_1) AppleWebKit/537.36 (KHTML, like Gecko) Chrome/100.0.4896.60 Safari/537.36 Edg/99.0.1150.36\n",
      "...............................\n",
      "New Proxy & User-Agent:\n",
      "46.242.12.211\n",
      "User-Agent: Mozilla/4.0 (compatible; MSIE 9.0; Windows NT 6.1; Trident/5.0)\n",
      "...............................\n",
      "New Proxy & User-Agent:\n",
      "46.242.12.211\n",
      "User-Agent: Mozilla/5.0 (Macintosh; Intel Mac OS X 12_3_1) AppleWebKit/605.1.15 (KHTML, like Gecko) Version/15.3 Safari/605.1.15\n",
      "...............................\n",
      "New Proxy & User-Agent:\n",
      "46.242.12.211\n",
      "User-Agent: Mozilla/5.0 (X11; Linux x86_64) AppleWebKit/537.36 (KHTML, like Gecko) Chrome/100.0.4896.60 Safari/537.36 Vivaldi/4.3\n",
      "...............................\n",
      "New Proxy & User-Agent:\n",
      "46.242.12.211\n",
      "User-Agent: Mozilla/5.0 (X11; Linux i686; rv:98.0) Gecko/20100101 Firefox/98.0\n",
      "...............................\n",
      "New Proxy & User-Agent:\n",
      "46.242.12.211\n",
      "User-Agent: Mozilla/5.0 (Windows NT 10.0; WOW64) AppleWebKit/537.36 (KHTML, like Gecko) Chrome/100.0.4896.60 YaBrowser/22.3.0 Yowser/2.5 Safari/537.36\n",
      "...............................\n"
     ]
    }
   ],
   "source": [
    "import requests\n",
    "from bs4 import BeautifulSoup\n",
    "from random import choice, uniform\n",
    "from time import sleep\n",
    "\n",
    "\n",
    "def get_html(url, useragent=None, proxy=None):\n",
    "    r = requests.get(url, headers=useragent, proxies=proxy)\n",
    "    return r.text\n",
    "\n",
    "\n",
    "def get_ip(html):\n",
    "    print('New Proxy & User-Agent:')\n",
    "    soup = BeautifulSoup(html, 'lxml')\n",
    "    ip = soup.find('span', class_='ip').text.strip()\n",
    "    ua = soup.find('span', class_='ip').find_next_sibling('span').text.strip()\n",
    "    print(ip)\n",
    "    print(ua)\n",
    "    print('...............................')\n",
    "\n",
    "\n",
    "def main():\n",
    "    url = 'https://sitespy.ru/my-ip'\n",
    "    \n",
    "    useragents = open('useragents.txt').read().split('\\n')\n",
    "    proxies = open('proxies.txt').read().split('\\n')\n",
    "    \n",
    "    for i in range(10):\n",
    "        sleep(uniform(3,6))\n",
    "        \n",
    "        proxy = {'http': 'http://' + choice(proxies)}\n",
    "        useragent = {'User-Agent': choice(useragents)}\n",
    "        \n",
    "        try:\n",
    "            html = get_html(url, useragent, proxy)\n",
    "        except:\n",
    "            continue\n",
    "        get_ip(html)\n",
    "\n",
    "\n",
    "if __name__ == '__main__':\n",
    "    main()"
   ]
  },
  {
   "cell_type": "code",
   "execution_count": null,
   "id": "753e6305",
   "metadata": {},
   "outputs": [],
   "source": []
  }
 ],
 "metadata": {
  "kernelspec": {
   "display_name": "Python 3",
   "language": "python",
   "name": "python3"
  },
  "language_info": {
   "codemirror_mode": {
    "name": "ipython",
    "version": 3
   },
   "file_extension": ".py",
   "mimetype": "text/x-python",
   "name": "python",
   "nbconvert_exporter": "python",
   "pygments_lexer": "ipython3",
   "version": "3.7.10"
  }
 },
 "nbformat": 4,
 "nbformat_minor": 5
}
