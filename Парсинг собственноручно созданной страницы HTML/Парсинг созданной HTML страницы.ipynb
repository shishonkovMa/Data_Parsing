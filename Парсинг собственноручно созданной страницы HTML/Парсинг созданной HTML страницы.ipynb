{
 "cells": [
  {
   "cell_type": "markdown",
   "id": "ef1328fc",
   "metadata": {},
   "source": [
    "Здесь познакомимся с дополнительными методами библиотеки BeautifulSoup. А также применим для парсинга регулярные выражения.\n",
    "\n",
    "P.S.: Если мы парсим страницу из интернета, например Авито с защитой, то целесообразно сохранить версию страницы локально для дальнейшей работы с ней. Иначе могут преждевременно забанить."
   ]
  },
  {
   "cell_type": "code",
   "execution_count": 1,
   "id": "3bbcf356",
   "metadata": {},
   "outputs": [],
   "source": [
    "from bs4 import BeautifulSoup\n",
    "import re\n",
    "\n",
    "\n",
    "def main():\n",
    "    html = open('index.html').read()\n",
    "    soup = BeautifulSoup(html, 'lxml')\n",
    "    \n",
    "#     div = soup.find('div', class_='links') # равносильно == soup.find('div', {'class': 'links', ..})\n",
    "# #     div в этом случае - объект soup (выглядит как html, но им не является)\n",
    "\n",
    "\n",
    "#     Если нам надо осуществить поиск снизу вверх (в отличие от find и find_all), то мы используем\n",
    "#     find_parent или find_parents\n",
    "    \n",
    "    \n",
    "#     text = soup.find('h1').previous_sibling # возращает все до следующего тега\n",
    "# #   Если хотим получить элементы до предыдущего тега, то используем previous_sibling\n",
    "\n",
    "\n",
    "# #   Если надо найти при помощи регулярных выражений\n",
    "#     a = soup.find('a', href = re.compile('ya.ru'))\n",
    "#     a = a.get('href')\n",
    "\n",
    "\n",
    "# #   Другой пример\n",
    "#     div = soup.find('h1').parent\n",
    "#     n = div.get('data_set')\n",
    "\n",
    "\n",
    "# #   Конкретней по re\n",
    "#     a = soup.find('a', href=re.compile('bing.com$')) # знак доллара говорит, что мы не ждем больше никаких символов\n",
    "\n",
    "\n",
    "# #   Аналогично можем выбирать ссылки по тексту\n",
    "#     a = soup.find('a', text = re.compile('second'))\n",
    "\n",
    "\n",
    "# #   Если хотим получить дату\n",
    "#     regexp = r'\\d{2}.\\d{2}.\\d{4}'\n",
    "#     a = soup.find(text = re.compile(regexp))\n",
    "\n",
    "\n",
    "# #   Другое использование регулярных выражений\n",
    "# #   regexp = r'\\w' # \\w - буквы, цифры, _\n",
    "# #   regexp = r'\\w\\-' # экранизация помимо верхнего еще и дефиса\n",
    "#     regexp = r'^http' # ^ - начало строки\n",
    "#     a = soup.find_all('a', href=re.compile(regexp))\n",
    "\n",
    "\n",
    "# #   Еще пример с re\n",
    "#     regexp = r'/\\d{1}$'\n",
    "#     a = soup.find_all('a', href = re.compile(regexp))\n",
    "#     print(a)\n",
    "\n",
    "\n",
    "if __name__ == \"__main__\":\n",
    "    main()"
   ]
  },
  {
   "cell_type": "code",
   "execution_count": null,
   "id": "d6eb4068",
   "metadata": {},
   "outputs": [],
   "source": []
  }
 ],
 "metadata": {
  "kernelspec": {
   "display_name": "Python 3",
   "language": "python",
   "name": "python3"
  },
  "language_info": {
   "codemirror_mode": {
    "name": "ipython",
    "version": 3
   },
   "file_extension": ".py",
   "mimetype": "text/x-python",
   "name": "python",
   "nbconvert_exporter": "python",
   "pygments_lexer": "ipython3",
   "version": "3.7.10"
  }
 },
 "nbformat": 4,
 "nbformat_minor": 5
}
