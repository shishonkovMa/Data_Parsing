{
 "cells": [
  {
   "cell_type": "markdown",
   "id": "23cd0e7a",
   "metadata": {},
   "source": [
    "Парсинг номера телефона из объявления на Авито (https://www.avito.ru/moskva/telefony/samsung_galaxy_s21_ultra_5g_128gb_novyy_rostest_2406456181), путем автоматического открытия браузера, прокликивания кнопки \"показать телефон\", скриншота, и его обрезки (кроп), a также распознавания номера на фото. Результат: номер в формате \"string\"."
   ]
  },
  {
   "cell_type": "code",
   "execution_count": 1,
   "id": "c8cc4c6c",
   "metadata": {},
   "outputs": [],
   "source": [
    "# pip install selenium"
   ]
  },
  {
   "cell_type": "code",
   "execution_count": 2,
   "id": "1fe4bf2e",
   "metadata": {},
   "outputs": [],
   "source": [
    "# pip install pillow"
   ]
  },
  {
   "cell_type": "code",
   "execution_count": 3,
   "id": "02af2176",
   "metadata": {},
   "outputs": [],
   "source": [
    "# pip install pytesseract"
   ]
  },
  {
   "cell_type": "code",
   "execution_count": 4,
   "id": "5ca268d0",
   "metadata": {},
   "outputs": [
    {
     "name": "stderr",
     "output_type": "stream",
     "text": [
      "C:\\Users\\bosss\\anaconda3\\envs\\praktikum\\lib\\site-packages\\ipykernel_launcher.py:39: DeprecationWarning: find_element_by_xpath is deprecated. Please use find_element(by=By.XPATH, value=xpath) instead\n",
      "C:\\Users\\bosss\\anaconda3\\envs\\praktikum\\lib\\site-packages\\ipykernel_launcher.py:46: DeprecationWarning: find_element_by_xpath is deprecated. Please use find_element(by=By.XPATH, value=xpath) instead\n"
     ]
    },
    {
     "name": "stdout",
     "output_type": "stream",
     "text": [
      "Номер телефона:  8 929 629-60-00\n",
      "\n"
     ]
    }
   ],
   "source": [
    "from selenium import webdriver\n",
    "from time import sleep\n",
    "from PIL import Image\n",
    "import pytesseract\n",
    "from pytesseract import image_to_string\n",
    "\n",
    "pytesseract.pytesseract.tesseract_cmd = r\"C:\\Program Files\\Tesseract-OCR\\tesseract.exe\"\n",
    "\n",
    "\n",
    "class Bot:\n",
    "    def __init__(self):\n",
    "        self.driver = webdriver.Chrome() #r'C:\\Users\\bosss\\Desktop\\chromedriver.exe'\n",
    "        self.navigate()\n",
    "        \n",
    "        \n",
    "    def take_screenshot(self):\n",
    "        self.driver.save_screenshot('avito_screenshot.png')\n",
    "        \n",
    "        \n",
    "    def tel_recon(self):\n",
    "        image = Image.open('tel.gif')\n",
    "        print('Номер телефона: ', image_to_string(image))\n",
    "        \n",
    "        \n",
    "    def crop(self, location, size):\n",
    "        image = Image.open('avito_screenshot.png')\n",
    "        x = location['x']\n",
    "        y = location['y']\n",
    "        width = size['width']\n",
    "        height = size['height']\n",
    "        \n",
    "        image.crop((x, y, x+width, y+height)).save('tel.gif')\n",
    "        self.tel_recon()\n",
    "        \n",
    "        \n",
    "    def navigate(self):\n",
    "        self.driver.get('https://www.avito.ru/moskva/telefony/samsung_galaxy_s21_ultra_5g_128gb_novyy_rostest_2406456181')\n",
    "        \n",
    "        button = self.driver.find_element_by_xpath('//button[@class=\"styles-item-phone-button_height-3SOiy button-button-2Fo5k button-size-l-3LVJf button-success-1Tf-u width-width-12-2VZLz\"]')\n",
    "        button.click()\n",
    "        \n",
    "        sleep(3)\n",
    "        \n",
    "        self.take_screenshot()\n",
    "        \n",
    "        image = self.driver.find_element_by_xpath('//img[@class=\"contacts-phone-3KtSI\"]')\n",
    "        location = image.location     # dict {'x': 123, 'y': 234}\n",
    "        size = image.size     # dict {'width': 1234, 'height': 2345}\n",
    "        \n",
    "        self.crop(location, size)\n",
    "        \n",
    "\n",
    "def main():\n",
    "    b = Bot()\n",
    "\n",
    "\n",
    "if __name__ == '__main__':\n",
    "    main()"
   ]
  }
 ],
 "metadata": {
  "kernelspec": {
   "display_name": "Python 3",
   "language": "python",
   "name": "python3"
  },
  "language_info": {
   "codemirror_mode": {
    "name": "ipython",
    "version": 3
   },
   "file_extension": ".py",
   "mimetype": "text/x-python",
   "name": "python",
   "nbconvert_exporter": "python",
   "pygments_lexer": "ipython3",
   "version": "3.7.10"
  }
 },
 "nbformat": 4,
 "nbformat_minor": 5
}
